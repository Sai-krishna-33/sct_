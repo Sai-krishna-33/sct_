{
  "nbformat": 4,
  "nbformat_minor": 0,
  "metadata": {
    "colab": {
      "provenance": [],
      "authorship_tag": "ABX9TyPCEd0++1e2e3ficTV/mGpA",
      "include_colab_link": true
    },
    "kernelspec": {
      "name": "python3",
      "display_name": "Python 3"
    },
    "language_info": {
      "name": "python"
    }
  },
  "cells": [
    {
      "cell_type": "markdown",
      "metadata": {
        "id": "view-in-github",
        "colab_type": "text"
      },
      "source": [
        "<a href=\"https://colab.research.google.com/github/Sai-krishna-33/sct_/blob/main/SCT_WebDevelopment_02.ipynb\" target=\"_parent\"><img src=\"https://colab.research.google.com/assets/colab-badge.svg\" alt=\"Open In Colab\"/></a>"
      ]
    },
    {
      "cell_type": "code",
      "execution_count": null,
      "metadata": {
        "colab": {
          "base_uri": "https://localhost:8080/"
        },
        "id": "KeJdCBWZuN3D",
        "outputId": "e880c762-032f-45b0-8052-5b686f47886e"
      },
      "outputs": [
        {
          "output_type": "stream",
          "name": "stdout",
          "text": [
            "🎯 Welcome to the Number Guessing Game!\n",
            "I'm thinking of a number between 1 and 100.\n",
            "👉 Enter your guess: 33\n",
            "🔺 Too high. Try again.\n",
            "👉 Enter your guess: 21\n",
            "🔺 Too high. Try again.\n",
            "👉 Enter your guess: 10\n",
            "🔺 Too high. Try again.\n",
            "👉 Enter your guess: 08\n",
            "🔺 Too high. Try again.\n",
            "👉 Enter your guess: 4\n",
            "🔻 Too low. Try again.\n",
            "👉 Enter your guess: 6\n",
            "🔻 Too low. Try again.\n",
            "👉 Enter your guess: 7\n",
            "🎉 Correct! You guessed it in 7 attempts.\n"
          ]
        }
      ],
      "source": [
        "import random\n",
        "\n",
        "def guess_the_number():\n",
        "    print(\"🎯 Welcome to the Number Guessing Game!\")\n",
        "    print(\"I'm thinking of a number between 1 and 100.\")\n",
        "\n",
        "    # Generate random number between 1 and 100\n",
        "    secret_number = random.randint(1, 100)\n",
        "    attempts = 0\n",
        "\n",
        "    while True:\n",
        "        try:\n",
        "            guess = int(input(\"👉 Enter your guess: \"))\n",
        "            attempts += 1\n",
        "\n",
        "            if guess < 1 or guess > 100:\n",
        "                print(\"❗ Please enter a number between 1 and 100.\")\n",
        "                continue\n",
        "\n",
        "            if guess < secret_number:\n",
        "                print(\"🔻 Too low. Try again.\")\n",
        "            elif guess > secret_number:\n",
        "                print(\"🔺 Too high. Try again.\")\n",
        "            else:\n",
        "                print(f\"🎉 Correct! You guessed it in {attempts} attempts.\")\n",
        "                break\n",
        "        except ValueError:\n",
        "            print(\"❌ Invalid input. Please enter a valid number.\")\n",
        "\n",
        "# Run the game\n",
        "guess_the_number()\n"
      ]
    }
  ]
}