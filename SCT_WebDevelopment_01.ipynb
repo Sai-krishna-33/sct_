{
  "nbformat": 4,
  "nbformat_minor": 0,
  "metadata": {
    "colab": {
      "provenance": [],
      "authorship_tag": "ABX9TyMbCTK8NaQPMmR45EUaaAgy",
      "include_colab_link": true
    },
    "kernelspec": {
      "name": "python3",
      "display_name": "Python 3"
    },
    "language_info": {
      "name": "python"
    }
  },
  "cells": [
    {
      "cell_type": "markdown",
      "metadata": {
        "id": "view-in-github",
        "colab_type": "text"
      },
      "source": [
        "<a href=\"https://colab.research.google.com/github/Sai-krishna-33/sct_/blob/main/SCT_WebDevelopment_01.ipynb\" target=\"_parent\"><img src=\"https://colab.research.google.com/assets/colab-badge.svg\" alt=\"Open In Colab\"/></a>"
      ]
    },
    {
      "cell_type": "code",
      "execution_count": null,
      "metadata": {
        "colab": {
          "base_uri": "https://localhost:8080/"
        },
        "id": "-Cb4v6gAf8b0",
        "outputId": "fad145fe-3e8f-4e5e-f401-1bd9959ae943"
      },
      "outputs": [
        {
          "output_type": "stream",
          "name": "stdout",
          "text": [
            "Temperature Converter: Celsius (C), Fahrenheit (F), Kelvin (K)\n",
            "Enter temperature value: 33\n",
            "Enter source scale (C/F/K): C\n",
            "Enter target scale (C/F/K): F\n",
            "\n",
            "✅ 33.0°C = 91.40°F\n"
          ]
        }
      ],
      "source": [
        "def celsius_to_fahrenheit(c):\n",
        "    return (c * 9/5) + 32\n",
        "\n",
        "def celsius_to_kelvin(c):\n",
        "    return c + 273.15\n",
        "\n",
        "def fahrenheit_to_celsius(f):\n",
        "    return (f - 32) * 5/9\n",
        "\n",
        "def fahrenheit_to_kelvin(f):\n",
        "    return (f - 32) * 5/9 + 273.15\n",
        "\n",
        "def kelvin_to_celsius(k):\n",
        "    return k - 273.15\n",
        "\n",
        "def kelvin_to_fahrenheit(k):\n",
        "    return (k - 273.15) * 9/5 + 32\n",
        "\n",
        "def convert_temperature(value, source, target):\n",
        "    source = source.upper()\n",
        "    target = target.upper()\n",
        "\n",
        "    if source == target:\n",
        "        return value\n",
        "    elif source == 'C' and target == 'F':\n",
        "        return celsius_to_fahrenheit(value)\n",
        "    elif source == 'C' and target == 'K':\n",
        "        return celsius_to_kelvin(value)\n",
        "    elif source == 'F' and target == 'C':\n",
        "        return fahrenheit_to_celsius(value)\n",
        "    elif source == 'F' and target == 'K':\n",
        "        return fahrenheit_to_kelvin(value)\n",
        "    elif source == 'K' and target == 'C':\n",
        "        return kelvin_to_celsius(value)\n",
        "    elif source == 'K' and target == 'F':\n",
        "        return kelvin_to_fahrenheit(value)\n",
        "    else:\n",
        "        return None\n",
        "\n",
        "# --- Main Program ---\n",
        "print(\"Temperature Converter: Celsius (C), Fahrenheit (F), Kelvin (K)\")\n",
        "try:\n",
        "    value = float(input(\"Enter temperature value: \"))\n",
        "    source = input(\"Enter source scale (C/F/K): \").strip()\n",
        "    target = input(\"Enter target scale (C/F/K): \").strip()\n",
        "\n",
        "    result = convert_temperature(value, source, target)\n",
        "\n",
        "    if result is not None:\n",
        "        print(f\"\\n✅ {value}°{source.upper()} = {result:.2f}°{target.upper()}\")\n",
        "    else:\n",
        "        print(\"❌ Invalid scale input. Please enter C, F, or K.\")\n",
        "except ValueError:\n",
        "    print(\"❌ Please enter a valid numeric temperature.\")"
      ]
    }
  ]
}